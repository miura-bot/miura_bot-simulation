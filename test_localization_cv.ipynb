{
 "cells": [
  {
   "cell_type": "code",
   "execution_count": null,
   "id": "b510e44e-9a6c-4d70-b122-5e6fbbcc26f0",
   "metadata": {},
   "outputs": [],
   "source": [
    "import cv2\n",
    "import numpy as np\n",
    "import matplotlib.pyplot as plt"
   ]
  },
  {
   "cell_type": "code",
   "execution_count": null,
   "id": "b5c238e6-d096-4e04-8615-ba56dc5a7f7f",
   "metadata": {},
   "outputs": [],
   "source": [
    "import cv2\n",
    "\n",
    "cap = cv2.VideoCapture(4)\n",
    "\n",
    "def make_1080p():\n",
    "    cap.set(3, 1920)\n",
    "    cap.set(4, 1080)\n",
    "\n",
    "# Check if the webcam is opened correctly\n",
    "if not cap.isOpened():\n",
    "    raise IOError(\"Cannot open webcam\")\n",
    "else:\n",
    "    make_1080p()"
   ]
  },
  {
   "cell_type": "code",
   "execution_count": null,
   "id": "c543186a-6590-4b6a-b565-c6b01a2424c3",
   "metadata": {
    "tags": []
   },
   "outputs": [],
   "source": [
    "while True:\n",
    "    ret, frame = cap.read()\n",
    "    frame = cv2.resize(frame, None, fx=0.5, fy=0.5, interpolation=cv2.INTER_AREA)\n",
    "    cv2.imshow('Input', frame)\n",
    "\n",
    "    c = cv2.waitKey(1)\n",
    "    if c == 27:\n",
    "        break\n",
    "\n",
    "cap.release()\n",
    "cv2.destroyAllWindows()"
   ]
  },
  {
   "cell_type": "code",
   "execution_count": null,
   "id": "53fc248f-0f31-4d6c-aa78-7eb46d8bbe33",
   "metadata": {
    "tags": []
   },
   "outputs": [],
   "source": [
    "ret, frame = cap.read()"
   ]
  },
  {
   "cell_type": "code",
   "execution_count": null,
   "id": "71294131-c127-46df-bb9c-07f83e2f410c",
   "metadata": {
    "tags": []
   },
   "outputs": [],
   "source": [
    "img = cv2.cvtColor(frame, cv2.COLOR_BGR2RGB)\n",
    "plt.imshow(img)\n",
    "plt.show()"
   ]
  },
  {
   "cell_type": "code",
   "execution_count": null,
   "id": "c9a0a3dc-7c91-41b5-af29-128f3b236d26",
   "metadata": {
    "tags": []
   },
   "outputs": [],
   "source": [
    "import os\n",
    "\n",
    "folder_path = \"/home/buzi/Desktop\"\n",
    "file_name = \"miura_bot.png\"\n",
    "\n",
    "im = cv2.imread(os.path.join(folder_path, file_name))"
   ]
  },
  {
   "cell_type": "code",
   "execution_count": null,
   "id": "65b1402a-5733-4a00-8605-d08294dc548c",
   "metadata": {
    "tags": []
   },
   "outputs": [],
   "source": [
    "im = im[:,:,::-1] # RGB-> BGR"
   ]
  },
  {
   "cell_type": "code",
   "execution_count": null,
   "id": "5cd9f9f3-d11f-4625-b108-327459e93901",
   "metadata": {
    "tags": []
   },
   "outputs": [],
   "source": [
    "plt.imshow(im)"
   ]
  },
  {
   "cell_type": "code",
   "execution_count": null,
   "id": "f5f9fa53-72a7-4ebe-b1ca-c7435e8fa833",
   "metadata": {
    "tags": []
   },
   "outputs": [],
   "source": [
    "# define the alpha and beta\n",
    "alpha = 1.7 # Contrast control\n",
    "beta = 10 # Brightness control\n",
    "\n",
    "# call convertScaleAbs function\n",
    "adjusted = cv2.convertScaleAbs(im, alpha=alpha, beta=beta)"
   ]
  },
  {
   "cell_type": "code",
   "execution_count": null,
   "id": "eabbe56f-bf02-414d-ad94-ad68bdf013bb",
   "metadata": {
    "tags": []
   },
   "outputs": [],
   "source": [
    "plt.imshow(adjusted)"
   ]
  },
  {
   "cell_type": "code",
   "execution_count": null,
   "id": "f3e3b1bf-4eba-4a03-87a5-d8947f1fc999",
   "metadata": {
    "tags": []
   },
   "outputs": [],
   "source": [
    "import cv2\n",
    "import numpy as np\n",
    "\n",
    "min_area = 10\n",
    "# Load the image\n",
    "image = cv2.imread('/home/buzi/Desktop/miura_bot.png')\n",
    "\n",
    "# define the alpha and beta\n",
    "alpha = 1.7 # Contrast control\n",
    "beta = 10 # Brightness control\n",
    "\n",
    "# call convertScaleAbs function\n",
    "image = cv2.convertScaleAbs(image, alpha=alpha, beta=beta)\n",
    "\n",
    "# Preprocess the image (e.g., convert to grayscale)\n",
    "gray = cv2.cvtColor(image, cv2.COLOR_BGR2GRAY)\n",
    "\n",
    "# Define color ranges for yellow and red\n",
    "lower_yellow = np.array([0, 100, 100])\n",
    "upper_yellow = np.array([30, 255, 255])\n",
    "\n",
    "lower_red = np.array([0, 0, 100])\n",
    "upper_red = np.array([100, 100, 255])\n",
    "\n",
    "# Create masks for yellow and red\n",
    "mask_yellow = cv2.inRange(image, lower_yellow, upper_yellow)\n",
    "mask_red = cv2.inRange(image, lower_red, upper_red)\n",
    "\n",
    "# Find contours in the masks\n",
    "contours_yellow, _ = cv2.findContours(mask_yellow, cv2.RETR_EXTERNAL, cv2.CHAIN_APPROX_SIMPLE)\n",
    "contours_red, _ = cv2.findContours(mask_red, cv2.RETR_EXTERNAL, cv2.CHAIN_APPROX_SIMPLE)\n",
    "\n",
    "# Filter contours (e.g., by area)\n",
    "filtered_contours_yellow = [c for c in contours_yellow if cv2.contourArea(c) > min_area]\n",
    "filtered_contours_red = [c for c in contours_red if cv2.contourArea(c) > min_area]\n",
    "\n",
    "# Get object positions (centroids)\n",
    "yellow_positions = [cv2.moments(c) for c in filtered_contours_yellow]\n",
    "red_positions = [cv2.moments(c) for c in filtered_contours_red]\n",
    "\n",
    "# Calculate centroids\n",
    "yellow_centroids = [(int(m['m10'] / m['m00']), int(m['m01'] / m['m00'])) for m in yellow_positions]\n",
    "red_centroids = [(int(m['m10'] / m['m00']), int(m['m01'] / m['m00'])) for m in red_positions]\n",
    "\n",
    "# Print the centroids\n",
    "print(\"Yellow Object Positions:\", yellow_centroids)\n",
    "print(\"Red Object Positions:\", red_centroids)\n",
    "\n",
    "# Draw contours and centroids on the image for visualization\n",
    "cv2.drawContours(image, filtered_contours_yellow, -1, (0, 255, 255), 2)\n",
    "cv2.drawContours(image, filtered_contours_red, -1, (0, 0, 255), 2)\n",
    "\n",
    "for centroid in yellow_centroids:\n",
    "    cv2.circle(image, centroid, 5, (0, 255, 255), -1)\n",
    "\n",
    "for centroid in red_centroids:\n",
    "    cv2.circle(image, centroid, 5, (0, 0, 255), -1)\n",
    "\n",
    "# Display the image\n",
    "cv2.imshow('Segmented Image', image)\n",
    "cv2.waitKey(0)\n",
    "cv2.destroyAllWindows()"
   ]
  },
  {
   "cell_type": "code",
   "execution_count": null,
   "id": "f9341cff-3762-4e86-9cae-d2f41eb46460",
   "metadata": {},
   "outputs": [],
   "source": []
  }
 ],
 "metadata": {
  "kernelspec": {
   "display_name": "Python 3 (ipykernel)",
   "language": "python",
   "name": "python3"
  },
  "language_info": {
   "codemirror_mode": {
    "name": "ipython",
    "version": 3
   },
   "file_extension": ".py",
   "mimetype": "text/x-python",
   "name": "python",
   "nbconvert_exporter": "python",
   "pygments_lexer": "ipython3",
   "version": "3.8.18"
  }
 },
 "nbformat": 4,
 "nbformat_minor": 5
}
